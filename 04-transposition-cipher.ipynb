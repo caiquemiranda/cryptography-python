{
 "cells": [
  {
   "attachments": {},
   "cell_type": "markdown",
   "metadata": {},
   "source": [
    "### Transposition Cipher"
   ]
  },
  {
   "cell_type": "code",
   "execution_count": null,
   "metadata": {},
   "outputs": [],
   "source": [
    "def split_len(seq, length):\n",
    "    return [seq[i:i + length] for i in range(0, len(seq), length)]\n",
    "\n",
    "def encode(key, plaintext):\n",
    "    order = {\n",
    "        int(val): num for num, val in enumerate(key)\n",
    "    }\n",
    "    \n",
    "    ciphertext = ''\n",
    "    \n",
    "    for index in sorted(order.keys()):\n",
    "        for part in split_len(plaintext, len(key)):\n",
    "            try:\n",
    "                ciphertext += part[order[index]]\n",
    "            \n",
    "            except IndexError:\n",
    "                continue\n",
    "            \n",
    "    return ciphertext\n",
    "\n",
    "print(encode('3214', 'HELLO'))"
   ]
  },
  {
   "attachments": {},
   "cell_type": "markdown",
   "metadata": {},
   "source": [
    "### End."
   ]
  }
 ],
 "metadata": {
  "kernelspec": {
   "display_name": "Python 3",
   "language": "python",
   "name": "python3"
  },
  "language_info": {
   "name": "python",
   "version": "3.10.5 (tags/v3.10.5:f377153, Jun  6 2022, 16:14:13) [MSC v.1929 64 bit (AMD64)]"
  },
  "orig_nbformat": 4,
  "vscode": {
   "interpreter": {
    "hash": "74af3d2f25f1e46ebd2903d59225d79e4675ec224d56c01fc30cd168c2010d53"
   }
  }
 },
 "nbformat": 4,
 "nbformat_minor": 2
}
