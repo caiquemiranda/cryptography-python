{
 "cells": [
  {
   "attachments": {},
   "cell_type": "markdown",
   "metadata": {},
   "source": [
    "### Caesar Cipher"
   ]
  },
  {
   "cell_type": "code",
   "execution_count": null,
   "metadata": {},
   "outputs": [],
   "source": [
    "def encrypt(text,s):\n",
    "    result = \"\"\n",
    "    \n",
    "    # transverse the plain text    \n",
    "    for i in range(len(text)):\n",
    "        char = text[i]\n",
    "        \n",
    "        # Encrypt uppercase characters in plain text        \n",
    "        if (char.isupper()):\n",
    "            result += chr((ord(char) + s-65) % 26 + 65)\n",
    "        \n",
    "        # Encrypt lowercase characters in plain text\n",
    "        else:\n",
    "            result += chr((ord(char) + s - 97) % 26 + 97)\n",
    "    \n",
    "    return result\n",
    "\n",
    "#check the above function\n",
    "text = \"CEASER CIPHER DEMO\"\n",
    "s = 4\n",
    "\n",
    "print(\"Plain Text : \" + text)\n",
    "print(\"Shift pattern : \" + str(s))\n",
    "print(\"Cipher: \" + encrypt(text,s))"
   ]
  },
  {
   "attachments": {},
   "cell_type": "markdown",
   "metadata": {},
   "source": [
    "### Hacking of Caesar Cipher Algorithm"
   ]
  },
  {
   "cell_type": "code",
   "execution_count": null,
   "metadata": {},
   "outputs": [],
   "source": [
    "message = 'GIEWIVrGMTLIVrHIQS' #encrypted message\n",
    "LETTERS = 'ABCDEFGHIJKLMNOPQRSTUVWXYZ'\n",
    "\n",
    "for key in range(len(LETTERS)):\n",
    "    translated = ''\n",
    "    \n",
    "    for symbol in message:\n",
    "        \n",
    "        if symbol in LETTERS:\n",
    "            num = LETTERS.find(symbol)\n",
    "            num = num - key\n",
    "        \n",
    "            if num < 0:\n",
    "                num = num + len(LETTERS)\n",
    "                translated = translated + LETTERS[num]\n",
    "        \n",
    "        else:\n",
    "            translated = translated + symbol\n",
    "    \n",
    "    print('Hacking key #%s: %s' % (key, translated))"
   ]
  },
  {
   "cell_type": "markdown",
   "metadata": {},
   "source": []
  }
 ],
 "metadata": {
  "kernelspec": {
   "display_name": "Python 3",
   "language": "python",
   "name": "python3"
  },
  "language_info": {
   "name": "python",
   "version": "3.10.5 (tags/v3.10.5:f377153, Jun  6 2022, 16:14:13) [MSC v.1929 64 bit (AMD64)]"
  },
  "orig_nbformat": 4,
  "vscode": {
   "interpreter": {
    "hash": "74af3d2f25f1e46ebd2903d59225d79e4675ec224d56c01fc30cd168c2010d53"
   }
  }
 },
 "nbformat": 4,
 "nbformat_minor": 2
}
