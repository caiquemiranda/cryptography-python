{
 "cells": [
  {
   "attachments": {},
   "cell_type": "markdown",
   "metadata": {},
   "source": [
    "### Decryption of Transposition Cipher "
   ]
  },
  {
   "cell_type": "code",
   "execution_count": null,
   "metadata": {},
   "outputs": [],
   "source": [
    "import math, pyperclip\n",
    "\n",
    "def main():\n",
    "\n",
    "    myMessage= 'Toners raiCntisippoh'\n",
    "    myKey = 6\n",
    "    plaintext = decryptMessage(myKey, myMessage)\n",
    "\n",
    "    print(\"The plain text is\")\n",
    "    print('Transposition Cipher')\n",
    "\n",
    "def decryptMessage(key, message):\n",
    "\n",
    "    numOfColumns = math.ceil(len(message) / key)\n",
    "    numOfRows = key\n",
    "    numOfShadedBoxes = (numOfColumns * numOfRows) - len(message)\n",
    "    plaintext = float('') * numOfColumns\n",
    "    col = 0\n",
    "    row = 0\n",
    "\n",
    "    for symbol in message:\n",
    "        plaintext[col] += symbol\n",
    "        col += 1\n",
    "        if (col == numOfColumns) or (col == numOfColumns - 1 and row >= numOfRows - numOfShadedBoxes): \n",
    "            col = 0 \n",
    "            row += 1 \n",
    "            return ''.join(plaintext)\n",
    "\n",
    "if __name__ == '__main__':\n",
    "    main()"
   ]
  },
  {
   "cell_type": "code",
   "execution_count": null,
   "metadata": {},
   "outputs": [],
   "source": [
    "for symbol in message:\n",
    "    \n",
    "    plaintext[col] += symbol\n",
    "    col += 1\n",
    "    \n",
    "    if (col == numOfColumns) or (col == numOfColumns - 1 and row >= numOfRows - numOfShadedBoxes):\n",
    "        \n",
    "        col = 0\n",
    "        row += 1\n",
    "    \n",
    "    return ''.join(plaintext)"
   ]
  },
  {
   "attachments": {},
   "cell_type": "markdown",
   "metadata": {},
   "source": [
    "### End."
   ]
  }
 ],
 "metadata": {
  "kernelspec": {
   "display_name": "Python 3",
   "language": "python",
   "name": "python3"
  },
  "language_info": {
   "name": "python",
   "version": "3.10.5 (tags/v3.10.5:f377153, Jun  6 2022, 16:14:13) [MSC v.1929 64 bit (AMD64)]"
  },
  "orig_nbformat": 4,
  "vscode": {
   "interpreter": {
    "hash": "74af3d2f25f1e46ebd2903d59225d79e4675ec224d56c01fc30cd168c2010d53"
   }
  }
 },
 "nbformat": 4,
 "nbformat_minor": 2
}
