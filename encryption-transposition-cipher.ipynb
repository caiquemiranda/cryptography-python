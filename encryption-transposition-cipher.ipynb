{
 "cells": [
  {
   "attachments": {},
   "cell_type": "markdown",
   "metadata": {},
   "source": [
    "### Encryption of Transposition Cipher"
   ]
  },
  {
   "cell_type": "code",
   "execution_count": null,
   "metadata": {},
   "outputs": [],
   "source": [
    "# !pip install pyperclip"
   ]
  },
  {
   "cell_type": "code",
   "execution_count": null,
   "metadata": {},
   "outputs": [],
   "source": [
    "import pyperclip\n",
    "\n",
    "def main():\n",
    "    myMessage = 'Transposition Cipher'\n",
    "    myKey = 10\n",
    "    ciphertext = encryptMessage(myKey, myMessage)\n",
    "    print(\"Cipher Text is\")\n",
    "    print(ciphertext + '|')\n",
    "    pyperclip.copy(ciphertext)\n",
    "\n",
    "def encryptMessage(key, message):\n",
    "    ciphertext = [''] * key\n",
    "    \n",
    "    for col in range(key):\n",
    "        position = col\n",
    "    \n",
    "        while position < len(message):\n",
    "            ciphertext[col] += message[position]\n",
    "            position += key\n",
    "\n",
    "    return ''.join(ciphertext) #Cipher text\n",
    "\n",
    "if __name__ == '__main__':\n",
    "    main()        "
   ]
  },
  {
   "attachments": {},
   "cell_type": "markdown",
   "metadata": {},
   "source": [
    "### End."
   ]
  }
 ],
 "metadata": {
  "kernelspec": {
   "display_name": "Python 3",
   "language": "python",
   "name": "python3"
  },
  "language_info": {
   "name": "python",
   "version": "3.10.5 (tags/v3.10.5:f377153, Jun  6 2022, 16:14:13) [MSC v.1929 64 bit (AMD64)]"
  },
  "orig_nbformat": 4,
  "vscode": {
   "interpreter": {
    "hash": "74af3d2f25f1e46ebd2903d59225d79e4675ec224d56c01fc30cd168c2010d53"
   }
  }
 },
 "nbformat": 4,
 "nbformat_minor": 2
}
